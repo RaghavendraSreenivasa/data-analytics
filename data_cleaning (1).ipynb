{
  "nbformat": 4,
  "nbformat_minor": 0,
  "metadata": {
    "colab": {
      "provenance": [],
      "authorship_tag": "ABX9TyNxrqOh3/GIgdgWzo+6ztAs",
      "include_colab_link": true
    },
    "kernelspec": {
      "name": "python3",
      "display_name": "Python 3"
    },
    "language_info": {
      "name": "python"
    }
  },
  "cells": [
    {
      "cell_type": "markdown",
      "metadata": {
        "id": "view-in-github",
        "colab_type": "text"
      },
      "source": [
        "<a href=\"https://colab.research.google.com/github/RaghavendraSreenivasa/Decision-Tree-Regression/blob/main/data_cleaning.ipynb\" target=\"_parent\"><img src=\"https://colab.research.google.com/assets/colab-badge.svg\" alt=\"Open In Colab\"/></a>"
      ]
    },
    {
      "cell_type": "markdown",
      "source": [
        "# **Import Libraries**"
      ],
      "metadata": {
        "id": "Z_u0HhU5V7Od"
      }
    },
    {
      "cell_type": "code",
      "execution_count": 1,
      "metadata": {
        "id": "sKP9TPJ2lbkA"
      },
      "outputs": [],
      "source": [
        "import pandas as pd\n",
        "import numpy as np"
      ]
    },
    {
      "cell_type": "markdown",
      "source": [
        "# Load the **dataset**"
      ],
      "metadata": {
        "id": "OctOljN2V-dl"
      }
    },
    {
      "cell_type": "code",
      "source": [
        "df = pd.read_csv('AB_NYC_2019.csv')"
      ],
      "metadata": {
        "id": "hmg7P4PAWBW8"
      },
      "execution_count": 2,
      "outputs": []
    },
    {
      "cell_type": "markdown",
      "source": [
        "# Initial **Exploration**"
      ],
      "metadata": {
        "id": "NmJj2LU0ZVw7"
      }
    },
    {
      "cell_type": "code",
      "source": [
        "print(df.head())"
      ],
      "metadata": {
        "colab": {
          "base_uri": "https://localhost:8080/"
        },
        "id": "d-Xaab6jZXKE",
        "outputId": "f8934180-fa1d-4152-be91-f70309b708ba"
      },
      "execution_count": 4,
      "outputs": [
        {
          "output_type": "stream",
          "name": "stdout",
          "text": [
            "     id                                              name  host_id  \\\n",
            "0  2539                Clean & quiet apt home by the park     2787   \n",
            "1  2595                             Skylit Midtown Castle     2845   \n",
            "2  3647               THE VILLAGE OF HARLEM....NEW YORK !     4632   \n",
            "3  3831                   Cozy Entire Floor of Brownstone     4869   \n",
            "4  5022  Entire Apt: Spacious Studio/Loft by central park     7192   \n",
            "\n",
            "     host_name neighbourhood_group neighbourhood  latitude  longitude  \\\n",
            "0         John            Brooklyn    Kensington  40.64749  -73.97237   \n",
            "1     Jennifer           Manhattan       Midtown  40.75362  -73.98377   \n",
            "2    Elisabeth           Manhattan        Harlem  40.80902  -73.94190   \n",
            "3  LisaRoxanne            Brooklyn  Clinton Hill  40.68514  -73.95976   \n",
            "4        Laura           Manhattan   East Harlem  40.79851  -73.94399   \n",
            "\n",
            "         room_type  price  minimum_nights  number_of_reviews last_review  \\\n",
            "0     Private room    149               1                  9  2018-10-19   \n",
            "1  Entire home/apt    225               1                 45  2019-05-21   \n",
            "2     Private room    150               3                  0         NaN   \n",
            "3  Entire home/apt     89               1                270  2019-07-05   \n",
            "4  Entire home/apt     80              10                  9  2018-11-19   \n",
            "\n",
            "   reviews_per_month  calculated_host_listings_count  availability_365  \n",
            "0               0.21                               6               365  \n",
            "1               0.38                               2               355  \n",
            "2                NaN                               1               365  \n",
            "3               4.64                               1               194  \n",
            "4               0.10                               1                 0  \n"
          ]
        }
      ]
    },
    {
      "cell_type": "code",
      "source": [
        "print(df.info())"
      ],
      "metadata": {
        "colab": {
          "base_uri": "https://localhost:8080/"
        },
        "id": "D2e5hmADZjA4",
        "outputId": "3ecd7c27-6013-4cef-88d4-b8024f031632"
      },
      "execution_count": 5,
      "outputs": [
        {
          "output_type": "stream",
          "name": "stdout",
          "text": [
            "<class 'pandas.core.frame.DataFrame'>\n",
            "RangeIndex: 48895 entries, 0 to 48894\n",
            "Data columns (total 16 columns):\n",
            " #   Column                          Non-Null Count  Dtype  \n",
            "---  ------                          --------------  -----  \n",
            " 0   id                              48895 non-null  int64  \n",
            " 1   name                            48879 non-null  object \n",
            " 2   host_id                         48895 non-null  int64  \n",
            " 3   host_name                       48874 non-null  object \n",
            " 4   neighbourhood_group             48895 non-null  object \n",
            " 5   neighbourhood                   48895 non-null  object \n",
            " 6   latitude                        48895 non-null  float64\n",
            " 7   longitude                       48895 non-null  float64\n",
            " 8   room_type                       48895 non-null  object \n",
            " 9   price                           48895 non-null  int64  \n",
            " 10  minimum_nights                  48895 non-null  int64  \n",
            " 11  number_of_reviews               48895 non-null  int64  \n",
            " 12  last_review                     38843 non-null  object \n",
            " 13  reviews_per_month               38843 non-null  float64\n",
            " 14  calculated_host_listings_count  48895 non-null  int64  \n",
            " 15  availability_365                48895 non-null  int64  \n",
            "dtypes: float64(3), int64(7), object(6)\n",
            "memory usage: 6.0+ MB\n",
            "None\n"
          ]
        }
      ]
    },
    {
      "cell_type": "code",
      "source": [
        "print(df.describe())"
      ],
      "metadata": {
        "colab": {
          "base_uri": "https://localhost:8080/"
        },
        "id": "wXr1hlZwZpJ7",
        "outputId": "281c565a-23d5-4c03-e954-bc75398fba48"
      },
      "execution_count": 6,
      "outputs": [
        {
          "output_type": "stream",
          "name": "stdout",
          "text": [
            "                 id       host_id      latitude     longitude         price  \\\n",
            "count  4.889500e+04  4.889500e+04  48895.000000  48895.000000  48895.000000   \n",
            "mean   1.901714e+07  6.762001e+07     40.728949    -73.952170    152.720687   \n",
            "std    1.098311e+07  7.861097e+07      0.054530      0.046157    240.154170   \n",
            "min    2.539000e+03  2.438000e+03     40.499790    -74.244420      0.000000   \n",
            "25%    9.471945e+06  7.822033e+06     40.690100    -73.983070     69.000000   \n",
            "50%    1.967728e+07  3.079382e+07     40.723070    -73.955680    106.000000   \n",
            "75%    2.915218e+07  1.074344e+08     40.763115    -73.936275    175.000000   \n",
            "max    3.648724e+07  2.743213e+08     40.913060    -73.712990  10000.000000   \n",
            "\n",
            "       minimum_nights  number_of_reviews  reviews_per_month  \\\n",
            "count    48895.000000       48895.000000       38843.000000   \n",
            "mean         7.029962          23.274466           1.373221   \n",
            "std         20.510550          44.550582           1.680442   \n",
            "min          1.000000           0.000000           0.010000   \n",
            "25%          1.000000           1.000000           0.190000   \n",
            "50%          3.000000           5.000000           0.720000   \n",
            "75%          5.000000          24.000000           2.020000   \n",
            "max       1250.000000         629.000000          58.500000   \n",
            "\n",
            "       calculated_host_listings_count  availability_365  \n",
            "count                    48895.000000      48895.000000  \n",
            "mean                         7.143982        112.781327  \n",
            "std                         32.952519        131.622289  \n",
            "min                          1.000000          0.000000  \n",
            "25%                          1.000000          0.000000  \n",
            "50%                          1.000000         45.000000  \n",
            "75%                          2.000000        227.000000  \n",
            "max                        327.000000        365.000000  \n"
          ]
        }
      ]
    },
    {
      "cell_type": "markdown",
      "source": [
        "# Handling Missing **Values**"
      ],
      "metadata": {
        "id": "e4XZAWlfZuV9"
      }
    },
    {
      "cell_type": "code",
      "source": [
        "df['reviews_per_month'].fillna(0, inplace=True)"
      ],
      "metadata": {
        "id": "LsfXjKnkZt_q"
      },
      "execution_count": 7,
      "outputs": []
    },
    {
      "cell_type": "code",
      "source": [
        "df['last_review'].fillna(0, inplace=True)"
      ],
      "metadata": {
        "id": "d1sYm3ybaQaA"
      },
      "execution_count": 9,
      "outputs": []
    },
    {
      "cell_type": "code",
      "source": [
        "print(df)"
      ],
      "metadata": {
        "colab": {
          "base_uri": "https://localhost:8080/"
        },
        "id": "4fM28z5AZ4JB",
        "outputId": "8545714d-8fc8-4329-afc7-571552c6b33a"
      },
      "execution_count": 10,
      "outputs": [
        {
          "output_type": "stream",
          "name": "stdout",
          "text": [
            "             id                                               name   host_id  \\\n",
            "0          2539                 Clean & quiet apt home by the park      2787   \n",
            "1          2595                              Skylit Midtown Castle      2845   \n",
            "2          3647                THE VILLAGE OF HARLEM....NEW YORK !      4632   \n",
            "3          3831                    Cozy Entire Floor of Brownstone      4869   \n",
            "4          5022   Entire Apt: Spacious Studio/Loft by central park      7192   \n",
            "...         ...                                                ...       ...   \n",
            "48890  36484665    Charming one bedroom - newly renovated rowhouse   8232441   \n",
            "48891  36485057      Affordable room in Bushwick/East Williamsburg   6570630   \n",
            "48892  36485431            Sunny Studio at Historical Neighborhood  23492952   \n",
            "48893  36485609               43rd St. Time Square-cozy single bed  30985759   \n",
            "48894  36487245  Trendy duplex in the very heart of Hell's Kitchen  68119814   \n",
            "\n",
            "           host_name neighbourhood_group       neighbourhood  latitude  \\\n",
            "0               John            Brooklyn          Kensington  40.64749   \n",
            "1           Jennifer           Manhattan             Midtown  40.75362   \n",
            "2          Elisabeth           Manhattan              Harlem  40.80902   \n",
            "3        LisaRoxanne            Brooklyn        Clinton Hill  40.68514   \n",
            "4              Laura           Manhattan         East Harlem  40.79851   \n",
            "...              ...                 ...                 ...       ...   \n",
            "48890        Sabrina            Brooklyn  Bedford-Stuyvesant  40.67853   \n",
            "48891        Marisol            Brooklyn            Bushwick  40.70184   \n",
            "48892  Ilgar & Aysel           Manhattan              Harlem  40.81475   \n",
            "48893            Taz           Manhattan      Hell's Kitchen  40.75751   \n",
            "48894     Christophe           Manhattan      Hell's Kitchen  40.76404   \n",
            "\n",
            "       longitude        room_type  price  minimum_nights  number_of_reviews  \\\n",
            "0      -73.97237     Private room    149               1                  9   \n",
            "1      -73.98377  Entire home/apt    225               1                 45   \n",
            "2      -73.94190     Private room    150               3                  0   \n",
            "3      -73.95976  Entire home/apt     89               1                270   \n",
            "4      -73.94399  Entire home/apt     80              10                  9   \n",
            "...          ...              ...    ...             ...                ...   \n",
            "48890  -73.94995     Private room     70               2                  0   \n",
            "48891  -73.93317     Private room     40               4                  0   \n",
            "48892  -73.94867  Entire home/apt    115              10                  0   \n",
            "48893  -73.99112      Shared room     55               1                  0   \n",
            "48894  -73.98933     Private room     90               7                  0   \n",
            "\n",
            "      last_review  reviews_per_month  calculated_host_listings_count  \\\n",
            "0      2018-10-19               0.21                               6   \n",
            "1      2019-05-21               0.38                               2   \n",
            "2               0               0.00                               1   \n",
            "3      2019-07-05               4.64                               1   \n",
            "4      2018-11-19               0.10                               1   \n",
            "...           ...                ...                             ...   \n",
            "48890           0               0.00                               2   \n",
            "48891           0               0.00                               2   \n",
            "48892           0               0.00                               1   \n",
            "48893           0               0.00                               6   \n",
            "48894           0               0.00                               1   \n",
            "\n",
            "       availability_365  \n",
            "0                   365  \n",
            "1                   355  \n",
            "2                   365  \n",
            "3                   194  \n",
            "4                     0  \n",
            "...                 ...  \n",
            "48890                 9  \n",
            "48891                36  \n",
            "48892                27  \n",
            "48893                 2  \n",
            "48894                23  \n",
            "\n",
            "[48895 rows x 16 columns]\n"
          ]
        }
      ]
    },
    {
      "cell_type": "code",
      "source": [
        "print(df.isnull())"
      ],
      "metadata": {
        "colab": {
          "base_uri": "https://localhost:8080/"
        },
        "id": "a7zH5bCNbFLA",
        "outputId": "35ce6f62-7785-4688-f1c1-0fc38dd1e424"
      },
      "execution_count": 11,
      "outputs": [
        {
          "output_type": "stream",
          "name": "stdout",
          "text": [
            "          id   name  host_id  host_name  neighbourhood_group  neighbourhood  \\\n",
            "0      False  False    False      False                False          False   \n",
            "1      False  False    False      False                False          False   \n",
            "2      False  False    False      False                False          False   \n",
            "3      False  False    False      False                False          False   \n",
            "4      False  False    False      False                False          False   \n",
            "...      ...    ...      ...        ...                  ...            ...   \n",
            "48890  False  False    False      False                False          False   \n",
            "48891  False  False    False      False                False          False   \n",
            "48892  False  False    False      False                False          False   \n",
            "48893  False  False    False      False                False          False   \n",
            "48894  False  False    False      False                False          False   \n",
            "\n",
            "       latitude  longitude  room_type  price  minimum_nights  \\\n",
            "0         False      False      False  False           False   \n",
            "1         False      False      False  False           False   \n",
            "2         False      False      False  False           False   \n",
            "3         False      False      False  False           False   \n",
            "4         False      False      False  False           False   \n",
            "...         ...        ...        ...    ...             ...   \n",
            "48890     False      False      False  False           False   \n",
            "48891     False      False      False  False           False   \n",
            "48892     False      False      False  False           False   \n",
            "48893     False      False      False  False           False   \n",
            "48894     False      False      False  False           False   \n",
            "\n",
            "       number_of_reviews  last_review  reviews_per_month  \\\n",
            "0                  False        False              False   \n",
            "1                  False        False              False   \n",
            "2                  False        False              False   \n",
            "3                  False        False              False   \n",
            "4                  False        False              False   \n",
            "...                  ...          ...                ...   \n",
            "48890              False        False              False   \n",
            "48891              False        False              False   \n",
            "48892              False        False              False   \n",
            "48893              False        False              False   \n",
            "48894              False        False              False   \n",
            "\n",
            "       calculated_host_listings_count  availability_365  \n",
            "0                               False             False  \n",
            "1                               False             False  \n",
            "2                               False             False  \n",
            "3                               False             False  \n",
            "4                               False             False  \n",
            "...                               ...               ...  \n",
            "48890                           False             False  \n",
            "48891                           False             False  \n",
            "48892                           False             False  \n",
            "48893                           False             False  \n",
            "48894                           False             False  \n",
            "\n",
            "[48895 rows x 16 columns]\n"
          ]
        }
      ]
    },
    {
      "cell_type": "code",
      "source": [
        "print(df.isnull().sum())"
      ],
      "metadata": {
        "colab": {
          "base_uri": "https://localhost:8080/"
        },
        "id": "GJIUfd48bMGs",
        "outputId": "b5bfecbf-fd84-43a5-8dff-fccc07781282"
      },
      "execution_count": 12,
      "outputs": [
        {
          "output_type": "stream",
          "name": "stdout",
          "text": [
            "id                                 0\n",
            "name                              16\n",
            "host_id                            0\n",
            "host_name                         21\n",
            "neighbourhood_group                0\n",
            "neighbourhood                      0\n",
            "latitude                           0\n",
            "longitude                          0\n",
            "room_type                          0\n",
            "price                              0\n",
            "minimum_nights                     0\n",
            "number_of_reviews                  0\n",
            "last_review                        0\n",
            "reviews_per_month                  0\n",
            "calculated_host_listings_count     0\n",
            "availability_365                   0\n",
            "dtype: int64\n"
          ]
        }
      ]
    },
    {
      "cell_type": "code",
      "source": [
        "print(df.price)"
      ],
      "metadata": {
        "colab": {
          "base_uri": "https://localhost:8080/"
        },
        "id": "BocSlIUdcsTK",
        "outputId": "fd787e01-d7f1-47d0-d759-02b40cec70dd"
      },
      "execution_count": 13,
      "outputs": [
        {
          "output_type": "stream",
          "name": "stdout",
          "text": [
            "0        149\n",
            "1        225\n",
            "2        150\n",
            "3         89\n",
            "4         80\n",
            "        ... \n",
            "48890     70\n",
            "48891     40\n",
            "48892    115\n",
            "48893     55\n",
            "48894     90\n",
            "Name: price, Length: 48895, dtype: int64\n"
          ]
        }
      ]
    },
    {
      "cell_type": "code",
      "source": [
        "df['price'] = df['price'].replace('[\\$,]', '', regex=True).astype(float)"
      ],
      "metadata": {
        "id": "EN1cHTd3cznw"
      },
      "execution_count": 14,
      "outputs": []
    },
    {
      "cell_type": "markdown",
      "source": [
        "# Correcting Data **Types**"
      ],
      "metadata": {
        "id": "ieliH4nyc38p"
      }
    },
    {
      "cell_type": "code",
      "source": [
        "print(df.price)"
      ],
      "metadata": {
        "colab": {
          "base_uri": "https://localhost:8080/"
        },
        "id": "acSgPPLmc1ep",
        "outputId": "029289e3-0207-449e-8579-3938d21082b0"
      },
      "execution_count": 15,
      "outputs": [
        {
          "output_type": "stream",
          "name": "stdout",
          "text": [
            "0        149.0\n",
            "1        225.0\n",
            "2        150.0\n",
            "3         89.0\n",
            "4         80.0\n",
            "         ...  \n",
            "48890     70.0\n",
            "48891     40.0\n",
            "48892    115.0\n",
            "48893     55.0\n",
            "48894     90.0\n",
            "Name: price, Length: 48895, dtype: float64\n"
          ]
        }
      ]
    },
    {
      "cell_type": "markdown",
      "source": [
        "# Removing **Duplicates**"
      ],
      "metadata": {
        "id": "vVvIAvY3c91D"
      }
    },
    {
      "cell_type": "code",
      "source": [
        "df.drop_duplicates(inplace=True)"
      ],
      "metadata": {
        "id": "7YviSXHRc3aP"
      },
      "execution_count": 16,
      "outputs": []
    },
    {
      "cell_type": "markdown",
      "source": [
        "# Handling **Outliers**"
      ],
      "metadata": {
        "id": "0nbTembzdHPL"
      }
    },
    {
      "cell_type": "code",
      "source": [
        "df = df[df['price'] < 10000]"
      ],
      "metadata": {
        "id": "h-6EZPVcdIr2"
      },
      "execution_count": 18,
      "outputs": []
    },
    {
      "cell_type": "markdown",
      "source": [
        "# Data **Transformation**"
      ],
      "metadata": {
        "id": "7GEQzcjsh2hi"
      }
    },
    {
      "cell_type": "code",
      "source": [
        "df = pd.get_dummies(df, columns=['room_type'], drop_first=True)"
      ],
      "metadata": {
        "id": "5iWVGLHfh1jV"
      },
      "execution_count": 20,
      "outputs": []
    },
    {
      "cell_type": "code",
      "source": [
        "print(df)"
      ],
      "metadata": {
        "colab": {
          "base_uri": "https://localhost:8080/"
        },
        "id": "AoFesWZliO0J",
        "outputId": "55a7ad74-551f-4c18-f41e-7919f10ceada"
      },
      "execution_count": 21,
      "outputs": [
        {
          "output_type": "stream",
          "name": "stdout",
          "text": [
            "             id                                               name   host_id  \\\n",
            "0          2539                 Clean & quiet apt home by the park      2787   \n",
            "1          2595                              Skylit Midtown Castle      2845   \n",
            "2          3647                THE VILLAGE OF HARLEM....NEW YORK !      4632   \n",
            "3          3831                    Cozy Entire Floor of Brownstone      4869   \n",
            "4          5022   Entire Apt: Spacious Studio/Loft by central park      7192   \n",
            "...         ...                                                ...       ...   \n",
            "48890  36484665    Charming one bedroom - newly renovated rowhouse   8232441   \n",
            "48891  36485057      Affordable room in Bushwick/East Williamsburg   6570630   \n",
            "48892  36485431            Sunny Studio at Historical Neighborhood  23492952   \n",
            "48893  36485609               43rd St. Time Square-cozy single bed  30985759   \n",
            "48894  36487245  Trendy duplex in the very heart of Hell's Kitchen  68119814   \n",
            "\n",
            "           host_name neighbourhood_group       neighbourhood  latitude  \\\n",
            "0               John            Brooklyn          Kensington  40.64749   \n",
            "1           Jennifer           Manhattan             Midtown  40.75362   \n",
            "2          Elisabeth           Manhattan              Harlem  40.80902   \n",
            "3        LisaRoxanne            Brooklyn        Clinton Hill  40.68514   \n",
            "4              Laura           Manhattan         East Harlem  40.79851   \n",
            "...              ...                 ...                 ...       ...   \n",
            "48890        Sabrina            Brooklyn  Bedford-Stuyvesant  40.67853   \n",
            "48891        Marisol            Brooklyn            Bushwick  40.70184   \n",
            "48892  Ilgar & Aysel           Manhattan              Harlem  40.81475   \n",
            "48893            Taz           Manhattan      Hell's Kitchen  40.75751   \n",
            "48894     Christophe           Manhattan      Hell's Kitchen  40.76404   \n",
            "\n",
            "       longitude  price  minimum_nights  number_of_reviews last_review  \\\n",
            "0      -73.97237  149.0               1                  9  2018-10-19   \n",
            "1      -73.98377  225.0               1                 45  2019-05-21   \n",
            "2      -73.94190  150.0               3                  0           0   \n",
            "3      -73.95976   89.0               1                270  2019-07-05   \n",
            "4      -73.94399   80.0              10                  9  2018-11-19   \n",
            "...          ...    ...             ...                ...         ...   \n",
            "48890  -73.94995   70.0               2                  0           0   \n",
            "48891  -73.93317   40.0               4                  0           0   \n",
            "48892  -73.94867  115.0              10                  0           0   \n",
            "48893  -73.99112   55.0               1                  0           0   \n",
            "48894  -73.98933   90.0               7                  0           0   \n",
            "\n",
            "       reviews_per_month  calculated_host_listings_count  availability_365  \\\n",
            "0                   0.21                               6               365   \n",
            "1                   0.38                               2               355   \n",
            "2                   0.00                               1               365   \n",
            "3                   4.64                               1               194   \n",
            "4                   0.10                               1                 0   \n",
            "...                  ...                             ...               ...   \n",
            "48890               0.00                               2                 9   \n",
            "48891               0.00                               2                36   \n",
            "48892               0.00                               1                27   \n",
            "48893               0.00                               6                 2   \n",
            "48894               0.00                               1                23   \n",
            "\n",
            "       room_type_Private room  room_type_Shared room  \n",
            "0                        True                  False  \n",
            "1                       False                  False  \n",
            "2                        True                  False  \n",
            "3                       False                  False  \n",
            "4                       False                  False  \n",
            "...                       ...                    ...  \n",
            "48890                    True                  False  \n",
            "48891                    True                  False  \n",
            "48892                   False                  False  \n",
            "48893                   False                   True  \n",
            "48894                    True                  False  \n",
            "\n",
            "[48892 rows x 17 columns]\n"
          ]
        }
      ]
    },
    {
      "cell_type": "markdown",
      "source": [
        "# Saving the Cleaned **Data**"
      ],
      "metadata": {
        "id": "Nx40zRftikzj"
      }
    },
    {
      "cell_type": "code",
      "source": [
        "df.to_csv('cleaned_airbnb_listings.csv', index=False)"
      ],
      "metadata": {
        "id": "y47YgP0PicXX"
      },
      "execution_count": 22,
      "outputs": []
    }
  ]
}